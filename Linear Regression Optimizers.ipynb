{
 "cells": [
  {
   "cell_type": "code",
   "execution_count": 455,
   "metadata": {
    "collapsed": true
   },
   "outputs": [],
   "source": [
    "import numpy as np\n",
    "import matplotlib.pyplot as plt\n",
    "from mpl_toolkits.mplot3d import Axes3D\n",
    "from matplotlib import cm\n",
    "from matplotlib.ticker import LinearLocator, FormatStrFormatter"
   ]
  },
  {
   "cell_type": "code",
   "execution_count": 456,
   "metadata": {
    "collapsed": true
   },
   "outputs": [],
   "source": [
    "#TODO: Nesterov, Newton (logistic regression), ADAMAX, "
   ]
  },
  {
   "cell_type": "code",
   "execution_count": 448,
   "metadata": {},
   "outputs": [],
   "source": [
    "#compute the equation y=a*x+b\n",
    "def f(x,a,b):\n",
    "    return a*x[:,0]+b\n",
    "\n",
    "#return the mse\n",
    "def get_error(x,a,b):\n",
    "    return 0.5*np.mean((f(x,a,b)-x[:,1])**2)\n",
    "\n",
    "#return partial derivative according to a and b\n",
    "def get_gradient(x,a,b):\n",
    "    return np.mean(x[:,0]*(f(x,a,b)-x[:,1]),axis=-1),np.mean(f(x,a,b)-x[:,1],axis=-1)\n",
    "\n",
    "def get_gradient_with_l2_norm(x,a,b,norm_coef):\n",
    "    return np.mean(x[:,0]*(f(x,a,b)-x[:,1]),axis=-1)+norm_coef*0.5*(a)**(-0.5),np.mean(f(x,a,b)-x[:,1],axis=-1)+norm_coef*0.5*(b)**(-0.5)\n",
    "\n",
    "def get_gradient_with_l1_norm(x,a,b,norm_coef):\n",
    "    return np.mean(x[:,0]*(f(x,a,b)-x[:,1]),axis=-1)+norm_coef*abs(a),np.mean(f(x,a,b)-x[:,1],axis=-1)+norm_coef*abs(b)\n",
    "\n",
    "\n",
    "#generate a set of data points\n",
    "#first column is abscisse\n",
    "#second column is ordinate\n",
    "def generate_data(point_nb):\n",
    "    x=np.array(())\n",
    "    for i in range(point_nb):\n",
    "        x=np.insert(x,len(x),i)\n",
    "        x=np.insert(x,len(x),i+np.random.rand()*40)\n",
    "    x=x.reshape((-1,2))\n",
    "    return x"
   ]
  },
  {
   "cell_type": "code",
   "execution_count": 514,
   "metadata": {
    "collapsed": true
   },
   "outputs": [],
   "source": [
    "def vanilla_gradient_descent(x,lamb=1e-5,stop_error=0.1):\n",
    "    a=np.random.rand()\n",
    "    b=np.random.rand()\n",
    "    prev_error=0\n",
    "    while True: \n",
    "        grada,gradb=get_gradient(x,a,b)\n",
    "        if abs(get_error(x,a,b)-prev_error)<stop_error:\n",
    "            break\n",
    "        else:\n",
    "            prev_error=get_error(x,a,b)\n",
    "            a-=(lamb*grada)\n",
    "            b-=(lamb*gradb)\n",
    "    plt.plot(x[:,0],f(x,a,b),label='Vanilla')\n",
    "    return a,b,get_error(x,a,b)"
   ]
  },
  {
   "cell_type": "code",
   "execution_count": 513,
   "metadata": {
    "collapsed": true
   },
   "outputs": [],
   "source": [
    "#gradient descent with batch_size,momentum,decreasing learning rate\n",
    "def gradient_descent(x,lamb=1e-5,stop_error=0.1,batch_size=50,momentum=0.09):\n",
    "    a=np.random.rand()\n",
    "    b=np.random.rand()\n",
    "    a_prev=0\n",
    "    b_prev=0\n",
    "    prev_error=0\n",
    "    while True:\n",
    "        x=np.random.permutation(x)\n",
    "        x_shuffled=x[:batch_size,:]        \n",
    "        grada,gradb=get_gradient(x_shuffled,a,b)\n",
    "        #print grada, gradb,a,b,error(x_shuffled,a,b)\n",
    "        if abs(get_error(x_shuffled,a,b)-prev_error)<stop_error:\n",
    "            break\n",
    "        else:\n",
    "            prev_error=get_error(x_shuffled,a,b)\n",
    "            a-=(lamb*grada+momentum*a_prev)\n",
    "            b-=(lamb*gradb+momentum*b_prev)\n",
    "            a_prev,b_prev=lamb*grada+momentum*a_prev,lamb*gradb+momentum*b_prev\n",
    "            #lamb*=(1-1e-8)\n",
    "    plt.plot(x[:,0],f(x,a,b),label='batch_momentum')\n",
    "    return a,b,get_error(x,a,b)"
   ]
  },
  {
   "cell_type": "code",
   "execution_count": 518,
   "metadata": {},
   "outputs": [],
   "source": [
    "def gradient_descent_with_preprocessing(x,lamb=1e-5,stop_error=0.1,batch_size=50,momentum=0.09):\n",
    "    x-=np.mean(x)\n",
    "    x/=np.std(x)\n",
    "    a=np.random.rand()\n",
    "    b=np.random.rand()\n",
    "    a_prev=0\n",
    "    b_prev=0\n",
    "    prev_error=0\n",
    "    while True:\n",
    "        x=np.random.permutation(x)\n",
    "        x_shuffled=x[:batch_size,:]        \n",
    "        grada,gradb=get_gradient(x_shuffled,a,b)\n",
    "        #print grada, gradb,a,b,get_error(x_shuffled,a,b)\n",
    "        if (abs(get_error(x_shuffled,a,b)-prev_error)<stop_error):\n",
    "            break\n",
    "        else:\n",
    "            prev_error=get_error(x_shuffled,a,b)\n",
    "            a-=(lamb*grada+momentum*a_prev)\n",
    "            b-=(lamb*gradb+momentum*b_prev)\n",
    "            a_prev,b_prev=lamb*grada+momentum*a_prev,lamb*gradb+momentum*b_prev\n",
    "            lamb*=(1-1e-8)\n",
    "    plt.plot(x[:,0],f(x,a,b),label='preprocessed')\n",
    "    return a,b,get_error(x,a,b)"
   ]
  },
  {
   "cell_type": "code",
   "execution_count": 511,
   "metadata": {
    "collapsed": true
   },
   "outputs": [],
   "source": [
    "def gradient_descent_with_l1_l2_norm(x,lamb=1e-5,stop_error=0.1,batch_size=50,momentum=0.09,norm='l2',norm_coef=1e-5):\n",
    "    if norm=='l2':\n",
    "        gradient_norm = lambda x,a,b,norm_coef: get_gradient_with_l2_norm(x,a,b,norm_coef)\n",
    "    else:\n",
    "        gradient_norm = lambda x,a,b,norm_coef: get_gradient_with_l1_norm(x,a,b,norm_coef)\n",
    "        \n",
    "    a=np.random.rand()\n",
    "    b=np.random.rand()\n",
    "    a_prev=0\n",
    "    b_prev=0\n",
    "    prev_error=0\n",
    "    while True:\n",
    "        x=np.random.permutation(x)\n",
    "        x_shuffled=x[:batch_size,:]        \n",
    "        grada,gradb=gradient_norm(x_shuffled,a,b,norm_coef)\n",
    "        #print grada, gradb,a,b,get_error(x_shuffled,a,b)\n",
    "        if (abs(get_error(x_shuffled,a,b)-prev_error)<stop_error):\n",
    "            break\n",
    "        else:\n",
    "            prev_error=get_error(x_shuffled,a,b)\n",
    "            a-=(lamb*grada+momentum*a_prev)\n",
    "            b-=(lamb*gradb+momentum*b_prev)\n",
    "            a_prev,b_prev=lamb*grada+momentum*a_prev,lamb*gradb+momentum*b_prev\n",
    "            lamb*=(1-1e-8)\n",
    "    plt.plot(x[:,0],f(x,a,b),label=norm+'_norm')\n",
    "    return a,b,get_error(x,a,b)"
   ]
  },
  {
   "cell_type": "code",
   "execution_count": 510,
   "metadata": {
    "collapsed": true
   },
   "outputs": [],
   "source": [
    "def adagrad_gradient_descent(x,lamb=1e-5,stop_error=0.1):\n",
    "    a=np.random.rand()\n",
    "    b=np.random.rand()\n",
    "    prev_error=0\n",
    "    sum_a=0\n",
    "    sum_b=0\n",
    "    while True: \n",
    "        grada,gradb=get_gradient(x,a,b)\n",
    "        if abs(get_error(x,a,b)-prev_error)<stop_error:\n",
    "            break\n",
    "        else:\n",
    "            prev_error=get_error(x,a,b)\n",
    "            \n",
    "            sum_a+=grada**2\n",
    "            sum_b+=gradb**2\n",
    "            \n",
    "            a-=((lamb/(sum_a)**0.5)*grada)\n",
    "            b-=((lamb/(sum_b)**0.5)*gradb)\n",
    "    plt.plot(x[:,0],f(x,a,b),label='Adagrad')\n",
    "    return a,b,get_error(x,a,b)"
   ]
  },
  {
   "cell_type": "code",
   "execution_count": 509,
   "metadata": {
    "collapsed": true
   },
   "outputs": [],
   "source": [
    "def rmsprop_gradient_descent(x,lamb=1e-5,stop_error=0.1):\n",
    "    a=np.random.rand()\n",
    "    b=np.random.rand()\n",
    "    prev_error=0\n",
    "    v_a=0\n",
    "    v_b=0\n",
    "    while True: \n",
    "        grada,gradb=get_gradient(x,a,b)\n",
    "        if abs(get_error(x,a,b)-prev_error)<stop_error:\n",
    "            break\n",
    "        else:\n",
    "            prev_error=get_error(x,a,b)\n",
    "            \n",
    "            v_a=lamb*v_a+(1-lamb)*grada**2\n",
    "            v_b=lamb*v_b+(1-lamb)*gradb**2\n",
    "            \n",
    "            a-=((lamb/(v_a**0.5))*grada)\n",
    "            b-=((lamb/(v_b**0.5))*gradb)\n",
    "    plt.plot(x[:,0],f(x,a,b),label='RMSPROP')\n",
    "    return a,b,get_error(x,a,b)"
   ]
  },
  {
   "cell_type": "code",
   "execution_count": 522,
   "metadata": {
    "collapsed": true
   },
   "outputs": [],
   "source": [
    "def adam_gradient_descent(x,lamb=1e-5,stop_error=0.1,beta1=0.9,beta2=0.999):\n",
    "    a=np.random.rand()\n",
    "    b=np.random.rand()\n",
    "    prev_error=0\n",
    "    m_a=0\n",
    "    v_a=0\n",
    "    m_b=0\n",
    "    v_b=0\n",
    "    moment_m_a=0\n",
    "    moment_v_a=0\n",
    "    moment_m_b=0\n",
    "    moment_v_b=0\n",
    "    while True: \n",
    "        grada,gradb=get_gradient(x,a,b)\n",
    "        if abs(get_error(x,a,b)-prev_error)<stop_error:\n",
    "            break\n",
    "        else:\n",
    "            prev_error=get_error(x,a,b)\n",
    "            \n",
    "            m_a=beta1*m_a+(1-beta1)*grada\n",
    "            v_a=beta2*v_a+(1-beta2)*grada**2\n",
    "            moment_m_a=m_a/(1-beta1)\n",
    "            moment_v_a=v_a/(1-beta2)\n",
    "            \n",
    "            m_b=beta1*m_b+(1-beta1)*gradb\n",
    "            v_b=beta2*v_b+(1-beta2)*gradb**2\n",
    "            moment_m_b=m_b/(1-beta1)\n",
    "            moment_v_b=v_b/(1-beta2)\n",
    "            \n",
    "            a-=(lamb*moment_m_a/(moment_v_a**(0.5)+1e-8))\n",
    "            b-=(lamb*moment_m_b/(moment_v_b**(0.5)+1e-8))\n",
    "    plt.plot(x[:,0],f(x,a,b),label='Adam')\n",
    "    return a,b,get_error(x,a,b)"
   ]
  },
  {
   "cell_type": "code",
   "execution_count": 526,
   "metadata": {},
   "outputs": [
    {
     "data": {
      "image/png": "[encoded data removed]",
      "text/plain": [
       "<matplotlib.figure.Figure at 0x7f4eb043ebd0>"
      ]
     },
     "metadata": {},
     "output_type": "display_data"
    }
   ],
   "source": [
    "plt.clf()\n",
    "x=generate_data(100)\n",
    "#a,b,error=vanilla_gradient_descent(x,lamb=1e-5,stop_error=1e-5)\n",
    "#a,b,error=gradient_descent(x,lamb=1e-3,stop_error=1e-5,batch_size=100,momentum=0.9)\n",
    "#a,b,error=gradient_descent_with_preprocessing(x,lamb=1e0,stop_error=1e-5,batch_size=100,momentum=0.9)\n",
    "#a,b,error=gradient_descent_with_l1_l2_norm(x,lamb=1e-3,stop_error=1e-5,batch_size=100,momentum=0.9,norm='l2',norm_coef=1e-6)\n",
    "a,b,error=adagrad_gradient_descent(x,lamb=1e-1,stop_error=1e-3)\n",
    "a,b,error=rmsprop_gradient_descent(x,lamb=1e-1,stop_error=1e-5)\n",
    "a,b,error=adam_gradient_descent(x,lamb=1e-2,stop_error=1e-5)\n",
    "\n",
    "\n",
    "plt.plot(x[:,0],x[:,1])\n",
    "plt.legend(loc='upper right')\n",
    "plt.show()"
   ]
  }
 ],
 "metadata": {
  "kernelspec": {
   "display_name": "Python 2",
   "language": "python",
   "name": "python2"
  },
  "language_info": {
   "codemirror_mode": {
    "name": "ipython",
    "version": 2
   },
   "file_extension": ".py",
   "mimetype": "text/x-python",
   "name": "python",
   "nbconvert_exporter": "python",
   "pygments_lexer": "ipython2",
   "version": "2.7.12"
  }
 },
 "nbformat": 4,
 "nbformat_minor": 2
}
